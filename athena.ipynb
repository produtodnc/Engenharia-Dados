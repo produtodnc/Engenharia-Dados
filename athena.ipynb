{
 "cells": [
  {
   "cell_type": "code",
   "execution_count": 1,
   "metadata": {},
   "outputs": [
    {
     "data": {
      "text/plain": [
       "'\\nSELECT * FROM dnc_database.dw\\nlimit 10\\n'"
      ]
     },
     "execution_count": 1,
     "metadata": {},
     "output_type": "execute_result"
    }
   ],
   "source": [
    "\"\"\"\n",
    "SELECT * FROM dnc_database.dw\n",
    "limit 10\n",
    "\"\"\""
   ]
  },
  {
   "cell_type": "code",
   "execution_count": 3,
   "metadata": {},
   "outputs": [
    {
     "data": {
      "text/plain": [
       "'\\nSELECT \\nCountry,\\ncount(*) as total_customers\\nFROM \"customers-10000\" \\ngroup by Country \\norder by total_customers desc\\n'"
      ]
     },
     "execution_count": 3,
     "metadata": {},
     "output_type": "execute_result"
    }
   ],
   "source": [
    "\"\"\"\n",
    "SELECT \n",
    "Country,\n",
    "count(*) as total_customers\n",
    "FROM dnc_database.dw\n",
    "group by Country \n",
    "order by total_customers desc\n",
    "\"\"\""
   ]
  },
  {
   "cell_type": "code",
   "execution_count": 4,
   "metadata": {},
   "outputs": [
    {
     "data": {
      "text/plain": [
       "'\\nSELECT \\nconcat(Country, \\'-\\', City) as location,\\ncount(*) as total_customers\\nFROM \"customers-10000\" \\ngroup by location\\norder by total_customers desc\\n\\n'"
      ]
     },
     "execution_count": 4,
     "metadata": {},
     "output_type": "execute_result"
    }
   ],
   "source": [
    "\"\"\"\n",
    "SELECT \n",
    "concat(Country, '-', City) as location,\n",
    "count(*) as total_customers\n",
    "FROM dnc_database.dw\n",
    "group by concat(Country, '-', City)\n",
    "order by total_customers desc\n",
    "\n",
    "\"\"\""
   ]
  },
  {
   "cell_type": "code",
   "execution_count": null,
   "metadata": {},
   "outputs": [],
   "source": [
    "\"\"\"\n",
    "SELECT max(\"subscription_date#5\") as max_date, min(\"subscription_date#5\") as min_date FROM dnc_database.dw\n",
    "\n",
    "\"\"\""
   ]
  }
 ],
 "metadata": {
  "kernelspec": {
   "display_name": ".env",
   "language": "python",
   "name": "python3"
  },
  "language_info": {
   "codemirror_mode": {
    "name": "ipython",
    "version": 3
   },
   "file_extension": ".py",
   "mimetype": "text/x-python",
   "name": "python",
   "nbconvert_exporter": "python",
   "pygments_lexer": "ipython3",
   "version": "3.10.12"
  }
 },
 "nbformat": 4,
 "nbformat_minor": 2
}
