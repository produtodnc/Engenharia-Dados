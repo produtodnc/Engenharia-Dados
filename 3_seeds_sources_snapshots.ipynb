{
 "cells": [
  {
   "cell_type": "code",
   "execution_count": 3,
   "metadata": {},
   "outputs": [],
   "source": [
    "# Seeds and Sources\n",
    "\n",
    "# Trazer e analisar o arquivo seed_full_moon_date.csv\n",
    "# Todos os dias que houve Lua Cheia nos ultimos 10 anos"
   ]
  },
  {
   "cell_type": "code",
   "execution_count": 5,
   "metadata": {},
   "outputs": [],
   "source": [
    "# Comando\n",
    "\n",
    "# dbt seed \n",
    "# Ira popular os dados no Snowflake"
   ]
  },
  {
   "cell_type": "code",
   "execution_count": 6,
   "metadata": {},
   "outputs": [],
   "source": [
    "# Criar arquivo models/mart/mart_fullmoon_reviews.sql\n",
    "# Adicionar query para analisar dados de full moon with reviews\n",
    "\n",
    "# dbt run"
   ]
  },
  {
   "cell_type": "code",
   "execution_count": 7,
   "metadata": {},
   "outputs": [],
   "source": [
    "# Sources sao uma abrstracao sobre o input data"
   ]
  },
  {
   "cell_type": "code",
   "execution_count": 8,
   "metadata": {},
   "outputs": [],
   "source": [
    "# Para criar o arquivo models/sources.yml\n",
    "\n",
    "a = \"\"\"\n",
    "version: 2\n",
    "\n",
    "sources:\n",
    "  - name: airbnb\n",
    "    schema: raw\n",
    "    tables:\n",
    "      - name: listings\n",
    "        identifier: raw_listings\n",
    "\n",
    "      - name: hosts\n",
    "        identifier: raw_hosts\n",
    "      - name: reviews\n",
    "        identifier: raw_reviews\n",
    "\n",
    "\"\"\""
   ]
  },
  {
   "cell_type": "code",
   "execution_count": 1,
   "metadata": {},
   "outputs": [
    {
     "data": {
      "text/plain": [
       "'\\nwith raw_reviews as (select * from {{ source(\"airbnb\", \"reviews\") }})\\n'"
      ]
     },
     "execution_count": 1,
     "metadata": {},
     "output_type": "execute_result"
    }
   ],
   "source": [
    "# Alterar a referencia do snowflake para a source do dbt que foi criado\n",
    "# src/srs_hosts.sql\n",
    "# src/src_listings.sql\n",
    "# src/src_reviews.sql\n",
    "\n",
    "\"\"\"\n",
    "with raw_listings as (select * from {{ source(\"airbnb\", \"listings\") }})\n",
    "\"\"\"\n",
    "\n",
    "\"\"\"\n",
    "with raw_hosts as (select * from {{ source(\"airbnb\", \"hosts\") }})\n",
    "\"\"\"\n",
    "\n",
    "\"\"\"\n",
    "with raw_reviews as (select * from {{ source(\"airbnb\", \"reviews\") }})\n",
    "\"\"\""
   ]
  },
  {
   "cell_type": "code",
   "execution_count": 2,
   "metadata": {},
   "outputs": [],
   "source": [
    "# Rodar comando\n",
    "\n",
    "# dbt compile\n",
    "\n",
    "# apenas para verificar se os modelos que criamos fazem sentido"
   ]
  },
  {
   "cell_type": "code",
   "execution_count": 12,
   "metadata": {},
   "outputs": [
    {
     "data": {
      "text/plain": [
       "'\\n      - name: hosts\\n        identifier: raw_hosts\\n      - name: reviews\\n        identifier: raw_reviews\\n        loaded_at_field: date\\n        freshness:\\n          warn_after: {count: 1, period: hour}\\n          error_after: {count: 24, period: hour}\\n'"
      ]
     },
     "execution_count": 12,
     "metadata": {},
     "output_type": "execute_result"
    }
   ],
   "source": [
    "# Source Freshness\n",
    "\n",
    "# arquivo sources.yaml\n",
    "\n",
    "\"\"\"\n",
    "      - name: hosts\n",
    "        identifier: raw_hosts\n",
    "      - name: reviews\n",
    "        identifier: raw_reviews\n",
    "        loaded_at_field: date\n",
    "        freshness:\n",
    "          warn_after: {count: 1, period: hour}\n",
    "           -- if find any data with less than 1 hour fresh will wanr\n",
    "          error_after: {count: 24, period: hour}\n",
    "          -- if find 24 or more rows less than 1 hour fresh will return error\n",
    "\"\"\""
   ]
  },
  {
   "cell_type": "code",
   "execution_count": 3,
   "metadata": {},
   "outputs": [
    {
     "data": {
      "text/plain": [
       "\"\\n19:54:59  Running with dbt=1.7.14\\n19:55:00  Registered adapter: snowflake=1.7.1\\n19:55:00  Found 1 seed, 8 models, 3 sources, 0 exposures, 0 metrics, 430 macros, 0 groups, 0 semantic models\\n19:55:00  \\n19:55:01  Concurrency: 1 threads (target='dev')\\n19:55:01  \\n19:55:01  1 of 1 START freshness of airbnb.reviews ....................................... [RUN]\\n19:55:02  1 of 1 WARN freshness of airbnb.reviews ........................................ [WARN in 0.72s]\\n19:55:02  Done.\\n\""
      ]
     },
     "execution_count": 3,
     "metadata": {},
     "output_type": "execute_result"
    }
   ],
   "source": [
    "# rodar comando para ver o dado que adicionamos agora com WARN\n",
    "\n",
    "# dbt source freshness\n",
    "\"\"\"\n",
    "19:54:59  Running with dbt=1.7.14\n",
    "19:55:00  Registered adapter: snowflake=1.7.1\n",
    "19:55:00  Found 1 seed, 8 models, 3 sources, 0 exposures, 0 metrics, 430 macros, 0 groups, 0 semantic models\n",
    "19:55:00  \n",
    "19:55:01  Concurrency: 1 threads (target='dev')\n",
    "19:55:01  \n",
    "19:55:01  1 of 1 START freshness of airbnb.reviews ....................................... [RUN]\n",
    "19:55:02  1 of 1 WARN freshness of airbnb.reviews ........................................ [WARN in 0.72s]\n",
    "19:55:02  Done.\n",
    "\"\"\""
   ]
  },
  {
   "cell_type": "code",
   "execution_count": 14,
   "metadata": {},
   "outputs": [],
   "source": [
    "# Snapshots\n",
    "\n",
    "# Iremos fazer um snapshot da camada raw (do input data) assim que ele tiver \n",
    "# qualquer mudanca iremos capturar um snapshot"
   ]
  },
  {
   "cell_type": "code",
   "execution_count": 15,
   "metadata": {},
   "outputs": [],
   "source": [
    "# Criar arquivo snapshots/scd_raw_listings.sql"
   ]
  },
  {
   "cell_type": "code",
   "execution_count": 4,
   "metadata": {},
   "outputs": [
    {
     "data": {
      "text/plain": [
       "'\\n{% snapshot scd_raw_listings %}\\n    {{\\n        config(\\n            target_schema=\"DEV\",\\n            unique_key=\"id\",\\n            strategy=\"timestamp\",\\n            updated_at=\"updated_at\",\\n            invalidate_hard_deletes=True,\\n        )\\n    }}\\n    select *\\n    from {{ source(\"airbnb\", \"listings\") }}\\n{% endsnapshot %}\\n\\n'"
      ]
     },
     "execution_count": 4,
     "metadata": {},
     "output_type": "execute_result"
    }
   ],
   "source": [
    "\"\"\"\n",
    "{% snapshot scd_raw_listings %}\n",
    "    {{\n",
    "        config(\n",
    "            target_schema=\"DEV\",\n",
    "            unique_key=\"id\",\n",
    "            strategy=\"timestamp\",\n",
    "            updated_at=\"updated_at\",\n",
    "            invalidate_hard_deletes=True,\n",
    "        )\n",
    "    }}\n",
    "    select *\n",
    "    from {{ source(\"airbnb\", \"listings\") }}\n",
    "{% endsnapshot %}\n",
    "\n",
    "\"\"\""
   ]
  },
  {
   "cell_type": "code",
   "execution_count": 16,
   "metadata": {},
   "outputs": [],
   "source": [
    "# Rodar Comando\n",
    "\n",
    "# dbt snapshot"
   ]
  },
  {
   "cell_type": "code",
   "execution_count": 17,
   "metadata": {},
   "outputs": [],
   "source": [
    "# Verificar nova tabela criada no SF -> \n",
    "# scd_raw_listings.sql"
   ]
  },
  {
   "cell_type": "code",
   "execution_count": null,
   "metadata": {},
   "outputs": [],
   "source": [
    "# Dentro do snowfalke rodar o seguinte comando para testar o snapshot\n",
    "\n",
    "\"\"\"\n",
    "UPDATE AIRBNB.RAW.RAW_LISTINGS SET MINIMUM_NIGHTS=30, updated_at=CURRENT_TIMESTAMP() WHERE ID=3176;\n",
    "\"\"\"\n",
    "\n",
    "# dbt snapshot\n",
    "\n",
    "\"\"\"\n",
    "SELECT * FROM AIRBNB.DEV.SCD_RAW_LISTINGS WHERE ID=3176;\n",
    "\"\"\""
   ]
  }
 ],
 "metadata": {
  "kernelspec": {
   "display_name": ".env",
   "language": "python",
   "name": "python3"
  },
  "language_info": {
   "codemirror_mode": {
    "name": "ipython",
    "version": 3
   },
   "file_extension": ".py",
   "mimetype": "text/x-python",
   "name": "python",
   "nbconvert_exporter": "python",
   "pygments_lexer": "ipython3",
   "version": "3.10.12"
  }
 },
 "nbformat": 4,
 "nbformat_minor": 2
}
