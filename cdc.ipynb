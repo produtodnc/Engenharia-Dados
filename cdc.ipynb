{
 "cells": [
  {
   "cell_type": "code",
   "execution_count": 7,
   "metadata": {},
   "outputs": [],
   "source": [
    "# Comandos Docker\n",
    "\n",
    "# docker run -d --name postgres -p 5432:5432 -e POSTGRES_USER=dnc -e POSTGRES_PASSWORD=dnc123 debezium/postgres:12"
   ]
  },
  {
   "cell_type": "code",
   "execution_count": 8,
   "metadata": {},
   "outputs": [],
   "source": [
    "# docker exec -ti postgres /bin/bash "
   ]
  },
  {
   "cell_type": "code",
   "execution_count": 2,
   "metadata": {},
   "outputs": [],
   "source": [
    "# Dentro do Container rodar os comandos\n",
    "\n",
    "# cat /var/lib/postgresql/data/postgresql.conf\n",
    "\n",
    "## Confirmar a configuracao \n",
    "### WAL_LEVEL = LOGICAL (record more data)\n",
    "### MAX_WAL_SENDERS = 4 (numero de processos que Postgres pode rodar para enviar dados para o consumer)\n",
    "\n",
    "# exit (para sair do container)"
   ]
  },
  {
   "cell_type": "code",
   "execution_count": null,
   "metadata": {},
   "outputs": [],
   "source": [
    "# Utilizando o Dbeaver ou software similar para acessar o banco de dados Postgres\n",
    "\n",
    "# Conectar no Banco de Dados\n",
    "\n",
    "# Rodar os Comandos\n",
    "# CREATE SCHEMA bank;\n",
    "# SET search_path to bank, public;\n",
    "# CREATE TABLE bank.holding (holding_id int, user_id int, holding_stock varchar(8), holding_quantity int, datetime_created timestamp, datetime_updated timestamp, primary key(holding_id));\n",
    "# ALTER TABLE bank.holding replica identity FULL; \n",
    "\n",
    "# insert into bank.holding values (1000, 1, 'VFIAX', 10, now(), now())"
   ]
  },
  {
   "cell_type": "code",
   "execution_count": 11,
   "metadata": {},
   "outputs": [],
   "source": [
    "# Iniciando Kafka com Docker\n",
    "\n",
    "# docker run -d --name zookeeper -p 2181:2181 -p 2888:2888 -p 3888:3888 debezium/zookeeper:1.1   \n",
    "\n",
    "# docker run -d --name kafka -p 9092:9092 --link zookeeper:zookeeper debezium/kafka:1.1     "
   ]
  },
  {
   "cell_type": "code",
   "execution_count": 13,
   "metadata": {},
   "outputs": [],
   "source": [
    "# Iniciando Debezium com Docker\n",
    "\n",
    "# docker run -d --name connect -p 8083:8083 --link kafka:kafka --link postgres:postgres -e BOOTSTRAP_SERVERS=kafka:9092 -e GROUP_ID=sde_group -e CONFIG_STORAGE_TOPIC=sde_storage_topic -e OFFSET_STORAGE_TOPIC=sde_offset_topic debezium/connect:1.1\n",
    "\n",
    "# Verificando quais conexoes estao ativas\n",
    "# curl -H \"Accept:application/json\" localhost:8083/connectors/ \n",
    "\n",
    "# Conectando nossa tabela que acabamos de criar   \n",
    "# curl -H \"Accept:application/json\" -H \"Content-Type: application/json\" localhost:8083/connectors/ -d '{\"name\": \"sde-connector\", \"config\": {\"connector.class\": \"io.debezium.connector.postgresql.PostgresConnector\", \"database.hostname\": \"postgres\", \"database.port\": \"5432\", \"database.user\": \"dnc\", \"database.password\": \"dnc123\", \"database.dbname\": \"postgres\", \"database.server.name\": \"bankserver1\", \"table.whitelist\": \"bank.holding\"}}'"
   ]
  },
  {
   "cell_type": "code",
   "execution_count": 6,
   "metadata": {},
   "outputs": [],
   "source": [
    "# Verificando os conectores\n",
    "\n",
    "# curl -H \"Accept:application/json\" localhost:8083/connectors/   "
   ]
  },
  {
   "cell_type": "code",
   "execution_count": 20,
   "metadata": {},
   "outputs": [],
   "source": [
    "# Consumer\n",
    "\n",
    "# Lendo a primeira mensagem do topico\n",
    "\n",
    "# docker run -it --rm --name consumer --link zookeeper:zookeeper --link kafka:kafka debezium/kafka:1.1 watch-topic -a bankserver1.bank.holding --max-messages 1  | grep '^{'"
   ]
  },
  {
   "cell_type": "code",
   "execution_count": null,
   "metadata": {},
   "outputs": [],
   "source": [
    "# Para fazer o arquivo ser executavel\n",
    "\n",
    "## chmod +x consumer.py  "
   ]
  },
  {
   "cell_type": "code",
   "execution_count": 10,
   "metadata": {},
   "outputs": [],
   "source": [
    "# docker run -it --rm --name consumer --link zookeeper:zookeeper --link kafka:kafka debezium/kafka:1.1 watch-topic -a bankserver1.bank.holding  | grep --line-buffered '^{' | ./consumer.py > ./data/holding_pivot.txt"
   ]
  },
  {
   "cell_type": "code",
   "execution_count": 1,
   "metadata": {},
   "outputs": [],
   "source": [
    "# comandos para rodar no PG database;\n",
    "\n",
    "# insert into bank.holding values (10015, 10, 'NVDA', 40, now(), now());\n",
    "# insert into bank.holding values (10025, 100, 'APPL', 30, now(), now());\n",
    "\n",
    "# update bank.holding set holding_quantity = 100 where holding_id = 10015;\n",
    "\n",
    "# delete from bank.holding where holding_id = 10015;\n",
    "# delete from bank.holding where holding_id = 10025;\n",
    "\n",
    "# insert into bank.holding values (10033, 2, 'APPL', 100, now(), now())\n",
    "\n",
    "# update bank.holding set holding_quantity = 10 where holding_id = 10033;"
   ]
  },
  {
   "cell_type": "code",
   "execution_count": null,
   "metadata": {},
   "outputs": [],
   "source": [
    "## PARAR OS CONTAINERS\n",
    "\n",
    "# docker stop $(docker ps -aq)\n",
    "# docker rm $(docker ps -aq)"
   ]
  },
  {
   "cell_type": "code",
   "execution_count": null,
   "metadata": {},
   "outputs": [],
   "source": []
  }
 ],
 "metadata": {
  "kernelspec": {
   "display_name": ".env",
   "language": "python",
   "name": "python3"
  },
  "language_info": {
   "codemirror_mode": {
    "name": "ipython",
    "version": 3
   },
   "file_extension": ".py",
   "mimetype": "text/x-python",
   "name": "python",
   "nbconvert_exporter": "python",
   "pygments_lexer": "ipython3",
   "version": "3.10.12"
  }
 },
 "nbformat": 4,
 "nbformat_minor": 2
}
