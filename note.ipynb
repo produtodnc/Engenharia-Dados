{
 "cells": [
  {
   "cell_type": "code",
   "execution_count": null,
   "metadata": {},
   "outputs": [],
   "source": [
    "# para de cadastrar no Databricks\n",
    "\n",
    "# https://www.databricks.com/try-databricks#account"
   ]
  }
 ],
 "metadata": {
  "language_info": {
   "name": "python"
  }
 },
 "nbformat": 4,
 "nbformat_minor": 2
}
