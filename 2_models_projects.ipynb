{
 "cells": [
  {
   "cell_type": "markdown",
   "metadata": {},
   "source": [
    "# MODELS"
   ]
  },
  {
   "cell_type": "code",
   "execution_count": 1,
   "metadata": {},
   "outputs": [],
   "source": [
    "# Verificando as Raw Tables em AIRBNB.DEV.RAW dentro do Snowflake"
   ]
  },
  {
   "cell_type": "code",
   "execution_count": 2,
   "metadata": {},
   "outputs": [],
   "source": [
    "# Create src folder inside models folder"
   ]
  },
  {
   "cell_type": "code",
   "execution_count": 3,
   "metadata": {},
   "outputs": [],
   "source": [
    "# Create the three models: src_hosts, src_listings, src_reviews em models folder\n",
    "\n",
    "# SELECT * FROM AIRBNB.RAW.RAW_REVIEWS"
   ]
  },
  {
   "cell_type": "code",
   "execution_count": 4,
   "metadata": {},
   "outputs": [],
   "source": [
    "# Verificar as Views criadas em SNOFLAKE AIRBNB.DEV.VIEWS"
   ]
  },
  {
   "cell_type": "markdown",
   "metadata": {},
   "source": [
    "# MATERIALIZATION\n"
   ]
  },
  {
   "cell_type": "code",
   "execution_count": 6,
   "metadata": {},
   "outputs": [],
   "source": [
    "# Verificar progresso no Data Flow"
   ]
  },
  {
   "cell_type": "code",
   "execution_count": 8,
   "metadata": {},
   "outputs": [],
   "source": [
    "# Criar a table dim_listings_cleanesed_table\n",
    "# referenciando a table com JINJA template\n",
    "# Jinja é uma linguagem de modelagem de texto. Ele permite processar um bloco de texto, inserir valores de um dicionário de contexto, \n",
    "# controlar como o texto flui usando condicionais e loops, modificar dados inseridos com filtros e compor diferentes modelos juntos \n",
    "# usando herança e inclusão."
   ]
  },
  {
   "cell_type": "code",
   "execution_count": 9,
   "metadata": {},
   "outputs": [],
   "source": [
    "# Criar tabela dim_hosts_cleansed.sql"
   ]
  },
  {
   "cell_type": "code",
   "execution_count": 10,
   "metadata": {},
   "outputs": [],
   "source": [
    "# Analisando os tipos de Materialization\n",
    "\n",
    "# Alterar o dbt_project.yml\n",
    "# models:\n",
    "#   dbtlearn:\n",
    "#     +materialized: view\n",
    "#     dim: \n",
    "#       +materialized: table"
   ]
  },
  {
   "cell_type": "code",
   "execution_count": 11,
   "metadata": {},
   "outputs": [],
   "source": [
    "# comando\n",
    "# dbt run\n",
    "\n",
    "# Verificar as tabelas no Snowflake"
   ]
  },
  {
   "cell_type": "code",
   "execution_count": 12,
   "metadata": {},
   "outputs": [],
   "source": [
    "# Criar fact table fct_review.sql\n",
    "\n",
    "# criar fact table para carregar dados de forma incremental"
   ]
  },
  {
   "cell_type": "code",
   "execution_count": null,
   "metadata": {},
   "outputs": [],
   "source": [
    "# {{ config(materialized=\"incremental\", on_schema_change=\"fail\") }}\n",
    "\n",
    "# config to make materialized incremental, se o schema alterar falhar transaction"
   ]
  },
  {
   "cell_type": "code",
   "execution_count": 1,
   "metadata": {},
   "outputs": [],
   "source": [
    "    # {% if is_incremental() %}\n",
    "    #     and review_date > (select max(review_date) from {{ this }})\n",
    "    # {% endif %}\n",
    "\n",
    "# Logica para nao pegar reviews antigos, apenas os salvos apos \n",
    "# o ultimo refresh na nossa tabela"
   ]
  },
  {
   "cell_type": "code",
   "execution_count": 2,
   "metadata": {},
   "outputs": [],
   "source": [
    "# dbt run"
   ]
  },
  {
   "cell_type": "code",
   "execution_count": 17,
   "metadata": {},
   "outputs": [],
   "source": [
    "# Dentro do snowflake iremos acrescentar novos dados\n",
    "\n",
    "# SELECT * FROM \"AIRBNB\".\"DEV\".\"FCT_REVIEWS\" WHERE listing_id=3176;\n",
    "# INSERT INTO airbnb.raw.raw_reviews VALUES (3176, CURRENT_TIMESTAMP(), 'Zoltan', 'excelent stay!', 'positive');\n",
    "\n",
    "# dbt run\n",
    "\n",
    "# verificar se o novo registro aparece no fact table\n",
    "# SELECT * FROM airbnb.dev.fct_reviews where listing_id=3176 order by review_date desc;\n",
    "\n",
    "# dbt run --full-refresh quando alterar schema ou source table para fazer o rebuild de incremental tables"
   ]
  },
  {
   "cell_type": "code",
   "execution_count": null,
   "metadata": {},
   "outputs": [],
   "source": [
    "# Criar dim_listings_with_hosts table\n",
    "\n",
    "# models/dim/dim_listings_w_hosts.sql\n",
    "\n",
    "\"\"\"\n",
    "with\n",
    "    l as (select * from {{ ref(\"dim_listings_cleansed\") }}),\n",
    "    h as (select * from {{ ref(\"dim_hosts_cleansed\") }})\n",
    "select\n",
    "    l.listing_id,\n",
    "    l.listing_name,\n",
    "    l.room_type,\n",
    "    l.minimum_nights,\n",
    "    l.price,\n",
    "    l.host_id,\n",
    "    h.host_name,\n",
    "    h.is_superhost as host_is_superhost,\n",
    "    l.created_at,\n",
    "    greatest(l.updated_at, h.updated_at) as updated_at\n",
    "from l\n",
    "left join h on (h.host_id = l.host_id)\n",
    "\n",
    "\"\"\""
   ]
  },
  {
   "cell_type": "code",
   "execution_count": 3,
   "metadata": {},
   "outputs": [],
   "source": [
    "#dbt run"
   ]
  },
  {
   "cell_type": "code",
   "execution_count": 4,
   "metadata": {},
   "outputs": [],
   "source": [
    "# verificar snowflake"
   ]
  },
  {
   "cell_type": "code",
   "execution_count": 9,
   "metadata": {},
   "outputs": [
    {
     "data": {
      "text/plain": [
       "\"\\n{{config(materialized='view')}}\\n\""
      ]
     },
     "execution_count": 9,
     "metadata": {},
     "output_type": "execute_result"
    }
   ],
   "source": [
    "# Alterar o tipo das tabelas\n",
    "# RAW para ephemeral -> CTE\n",
    "\"\"\"\n",
    "models:\n",
    "  dbtdnc:\n",
    "    +materialized: view\n",
    "    dim: \n",
    "      +materialized: table\n",
    "    src:\n",
    "      +materialized: ephemeral\n",
    "\"\"\"\n",
    "\n",
    "# FAZER O DROP DAS VIEWS NO SNOWFLAKE MANUALMENTE\n",
    "\"\"\"\n",
    "DROP VIEW AIRBNB.DEV.SRC_HOSTS;\n",
    "DROP VIEW AIRBNB.DEV.SRC_LISTINGS;\n",
    "DROP VIEW AIRBNB.DEV.SRC_REVIEWS;\n",
    "\"\"\"\n",
    "\n",
    "# DIM para VIEWS -> ADICIONAR CODIGO NO SQL -> \n",
    "# dim_hosts_cleansed.sql\n",
    "# dim_listings_cleansed.sql\n",
    "\"\"\"\n",
    "{{config(materialized='view')}}\n",
    "\"\"\"\n",
    "\n",
    "# dbt run\n"
   ]
  },
  {
   "cell_type": "code",
   "execution_count": null,
   "metadata": {},
   "outputs": [],
   "source": []
  }
 ],
 "metadata": {
  "kernelspec": {
   "display_name": ".env",
   "language": "python",
   "name": "python3"
  },
  "language_info": {
   "codemirror_mode": {
    "name": "ipython",
    "version": 3
   },
   "file_extension": ".py",
   "mimetype": "text/x-python",
   "name": "python",
   "nbconvert_exporter": "python",
   "pygments_lexer": "ipython3",
   "version": "3.10.12"
  }
 },
 "nbformat": 4,
 "nbformat_minor": 2
}
