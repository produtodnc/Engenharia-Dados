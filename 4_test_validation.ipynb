{
 "cells": [
  {
   "cell_type": "code",
   "execution_count": 2,
   "metadata": {},
   "outputs": [
    {
     "data": {
      "text/plain": [
       "'○unique\\n○not_null\\n○accepted_values\\n○Relationships'"
      ]
     },
     "execution_count": 2,
     "metadata": {},
     "output_type": "execute_result"
    }
   ],
   "source": [
    "# os 4 tipos the generic tests\n",
    "\"\"\"○unique\n",
    "○not_null\n",
    "○accepted_values\n",
    "○Relationships\"\"\""
   ]
  },
  {
   "cell_type": "code",
   "execution_count": 3,
   "metadata": {},
   "outputs": [],
   "source": [
    "# Create file models/schema.yml"
   ]
  },
  {
   "cell_type": "code",
   "execution_count": 5,
   "metadata": {},
   "outputs": [
    {
     "data": {
      "text/plain": [
       "'\\nversion: 2\\n\\nmodels:\\n  - name: dim_listing_cleansed\\n    description: Cleansed table which contains Airbnb listings\\n    columns:\\n      - name: listing_id\\n        description: Primary key for the listing\\n        tests:\\n          - unique\\n          - not_null\\n'"
      ]
     },
     "execution_count": 5,
     "metadata": {},
     "output_type": "execute_result"
    }
   ],
   "source": [
    "\"\"\"\n",
    "version: 2\n",
    "\n",
    "models:\n",
    "  - name: dim_listings_cleansed\n",
    "    description: Cleansed table which contains Airbnb listings\n",
    "    columns:\n",
    "      - name: listing_id\n",
    "        description: Primary key for the listing\n",
    "        tests:\n",
    "          - unique\n",
    "          - not_null\n",
    "\"\"\""
   ]
  },
  {
   "cell_type": "code",
   "execution_count": 4,
   "metadata": {},
   "outputs": [],
   "source": [
    "# Rodar comando\n",
    "\n",
    "# dbt test"
   ]
  },
  {
   "cell_type": "code",
   "execution_count": 6,
   "metadata": {},
   "outputs": [
    {
     "data": {
      "text/plain": [
       "\"\\nversion: 2\\n\\nmodels:\\n  - name: dim_listings_cleansed\\ndescription: Cleansed table which contains Airbnb listings\\ncolumns:\\n  - name: listing_id\\n    description: Primary key for the listing\\n    tests:\\n      - unique\\n      - not_null\\n\\n  - name: host_id\\n    description: The host's id. References the hosts table\\n    tests:\\n      - not_null\\n      - relationships:\\n          to: ref('dim_hosts_cleaesed')\\n          field: host_id\\n\\n  - name: room_type\\n    tests:\\n      - accepted_values:\\n          values: ['Entire home/apt', 'Private room', 'Shared room', 'Hotel room']\\n\""
      ]
     },
     "execution_count": 6,
     "metadata": {},
     "output_type": "execute_result"
    }
   ],
   "source": [
    "\"\"\"\n",
    "version: 2\n",
    "\n",
    "models:\n",
    "  - name: dim_listings_cleansed\n",
    "    description: Cleansed table which contains Airbnb listings\n",
    "    columns:\n",
    "      - name: listing_id\n",
    "        description: Primary key for the listing\n",
    "        tests:\n",
    "          - unique\n",
    "          - not_null\n",
    "\n",
    "      - name: host_id\n",
    "        description: The host's id. References the hosts table\n",
    "        tests:\n",
    "          - not_null\n",
    "          - relationships:\n",
    "              to: ref('dim_hosts_cleaesed')\n",
    "              field: host_id\n",
    "\n",
    "      - name: room_type\n",
    "        tests:\n",
    "          - accepted_values:\n",
    "              values: ['Entire home/apt', 'Private room', 'Shared room', 'Hotel room']\n",
    "\"\"\""
   ]
  },
  {
   "cell_type": "code",
   "execution_count": 7,
   "metadata": {},
   "outputs": [
    {
     "data": {
      "text/plain": [
       "\"\\nversion: 2\\n\\nmodels:\\n  - name: dim_listings_cleansed\\n    description: Cleansed table which contains Airbnb listings\\n    columns:\\n      - name: listing_id\\n        description: Primary key for the listing\\n        tests:\\n          - unique\\n          - not_null\\n\\n      - name: host_id\\n        description: The host's id. References the hosts table\\n        tests:\\n          - not_null\\n          - relationships:\\n              to: ref('dim_hosts_cleaesed')\\n              field: host_id\\n\\n      - name: room_type\\n        tests:\\n          - accepted_values:\\n              values: ['Entire home/apt', 'Private room', 'Shared room', 'Hasdasdotel room']\\n\""
      ]
     },
     "execution_count": 7,
     "metadata": {},
     "output_type": "execute_result"
    }
   ],
   "source": [
    "# Mostrar como debug\n",
    "\n",
    "\"\"\"\n",
    "version: 2\n",
    "\n",
    "models:\n",
    "  - name: dim_listings_cleansed\n",
    "    description: Cleansed table which contains Airbnb listings\n",
    "    columns:\n",
    "      - name: listing_id\n",
    "        description: Primary key for the listing\n",
    "        tests:\n",
    "          - unique\n",
    "          - not_null\n",
    "\n",
    "      - name: host_id\n",
    "        description: The host's id. References the hosts table\n",
    "        tests:\n",
    "          - not_null\n",
    "          - relationships:\n",
    "              to: ref('dim_hosts_cleaesed')\n",
    "              field: host_id\n",
    "\n",
    "      - name: room_type\n",
    "        tests:\n",
    "          - accepted_values:\n",
    "              values: ['Entire home/apt', 'Private room', 'Shared room', 'Hasdasdotel room']\n",
    "\"\"\""
   ]
  },
  {
   "cell_type": "code",
   "execution_count": 10,
   "metadata": {},
   "outputs": [],
   "source": [
    "# Singular Tests\n",
    "\n",
    "# O Dado retornado da query de teste deve retornar zero records\n",
    "\n",
    "# Criar arquivo tests/dim_listings_minimum_nights.sql"
   ]
  },
  {
   "cell_type": "code",
   "execution_count": 12,
   "metadata": {},
   "outputs": [],
   "source": [
    "# rodar comando\n",
    "\n",
    "# dbt test"
   ]
  },
  {
   "cell_type": "code",
   "execution_count": null,
   "metadata": {},
   "outputs": [],
   "source": []
  }
 ],
 "metadata": {
  "kernelspec": {
   "display_name": ".env",
   "language": "python",
   "name": "python3"
  },
  "language_info": {
   "codemirror_mode": {
    "name": "ipython",
    "version": 3
   },
   "file_extension": ".py",
   "mimetype": "text/x-python",
   "name": "python",
   "nbconvert_exporter": "python",
   "pygments_lexer": "ipython3",
   "version": "3.10.12"
  }
 },
 "nbformat": 4,
 "nbformat_minor": 2
}
