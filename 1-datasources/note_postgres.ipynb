{
 "cells": [
  {
   "cell_type": "code",
   "execution_count": 1,
   "metadata": {},
   "outputs": [],
   "source": [
    "# comando para rodar um banco de dados postgres utilizando docker\n",
    "\n",
    "# docker run --name dnc-dados -e POSTGRES_PASSWORD=dnc123 -e POSTGRES_USER:dnc -e POSTGRES_DB:dados -p 5432:5432 -d postgres"
   ]
  },
  {
   "cell_type": "code",
   "execution_count": 3,
   "metadata": {},
   "outputs": [
    {
     "name": "stdout",
     "output_type": "stream",
     "text": [
      "Requirement already satisfied: pip in /home/lkeiti/Documents/dnc-data-engineer/.env/lib/python3.10/site-packages (22.0.2)\n",
      "Collecting install\n",
      "  Downloading install-1.3.5-py3-none-any.whl (3.2 kB)\n",
      "Collecting psycopg2-binary\n",
      "  Using cached psycopg2_binary-2.9.9-cp310-cp310-manylinux_2_17_x86_64.manylinux2014_x86_64.whl (3.0 MB)\n",
      "Installing collected packages: psycopg2-binary, install\n",
      "Successfully installed install-1.3.5 psycopg2-binary-2.9.9\n"
     ]
    }
   ],
   "source": [
    "!pip install psycopg2-binary"
   ]
  },
  {
   "cell_type": "code",
   "execution_count": 1,
   "metadata": {},
   "outputs": [
    {
     "data": {
      "text/plain": [
       "<connection object at 0x73544ee55300; dsn: 'user=postgres password=xxx dbname=postgres host=localhost port=5432', closed: 0>"
      ]
     },
     "execution_count": 1,
     "metadata": {},
     "output_type": "execute_result"
    }
   ],
   "source": [
    "import psycopg2\n",
    "\n",
    "conn = psycopg2.connect(\n",
    "    database='postgres',\n",
    "    user='postgres',\n",
    "    host='localhost',\n",
    "    password='dnc123',\n",
    "    port=5432\n",
    ")\n",
    "\n",
    "conn"
   ]
  },
  {
   "cell_type": "code",
   "execution_count": 5,
   "metadata": {},
   "outputs": [
    {
     "data": {
      "text/plain": [
       "['DataError',\n",
       " 'DatabaseError',\n",
       " 'Error',\n",
       " 'IntegrityError',\n",
       " 'InterfaceError',\n",
       " 'InternalError',\n",
       " 'NotSupportedError',\n",
       " 'OperationalError',\n",
       " 'ProgrammingError',\n",
       " 'Warning',\n",
       " '__class__',\n",
       " '__delattr__',\n",
       " '__dir__',\n",
       " '__doc__',\n",
       " '__enter__',\n",
       " '__eq__',\n",
       " '__exit__',\n",
       " '__format__',\n",
       " '__ge__',\n",
       " '__getattribute__',\n",
       " '__gt__',\n",
       " '__hash__',\n",
       " '__init__',\n",
       " '__init_subclass__',\n",
       " '__le__',\n",
       " '__lt__',\n",
       " '__ne__',\n",
       " '__new__',\n",
       " '__reduce__',\n",
       " '__reduce_ex__',\n",
       " '__repr__',\n",
       " '__setattr__',\n",
       " '__sizeof__',\n",
       " '__str__',\n",
       " '__subclasshook__',\n",
       " 'async',\n",
       " 'async_',\n",
       " 'autocommit',\n",
       " 'binary_types',\n",
       " 'cancel',\n",
       " 'close',\n",
       " 'closed',\n",
       " 'commit',\n",
       " 'cursor',\n",
       " 'cursor_factory',\n",
       " 'deferrable',\n",
       " 'dsn',\n",
       " 'encoding',\n",
       " 'fileno',\n",
       " 'get_backend_pid',\n",
       " 'get_dsn_parameters',\n",
       " 'get_native_connection',\n",
       " 'get_parameter_status',\n",
       " 'get_transaction_status',\n",
       " 'info',\n",
       " 'isexecuting',\n",
       " 'isolation_level',\n",
       " 'lobject',\n",
       " 'notices',\n",
       " 'notifies',\n",
       " 'pgconn_ptr',\n",
       " 'poll',\n",
       " 'protocol_version',\n",
       " 'readonly',\n",
       " 'reset',\n",
       " 'rollback',\n",
       " 'server_version',\n",
       " 'set_client_encoding',\n",
       " 'set_isolation_level',\n",
       " 'set_session',\n",
       " 'status',\n",
       " 'string_types',\n",
       " 'tpc_begin',\n",
       " 'tpc_commit',\n",
       " 'tpc_prepare',\n",
       " 'tpc_recover',\n",
       " 'tpc_rollback',\n",
       " 'xid']"
      ]
     },
     "execution_count": 5,
     "metadata": {},
     "output_type": "execute_result"
    }
   ],
   "source": [
    "dir(conn)"
   ]
  },
  {
   "cell_type": "code",
   "execution_count": 6,
   "metadata": {},
   "outputs": [
    {
     "data": {
      "text/plain": [
       "['__class__',\n",
       " '__delattr__',\n",
       " '__dir__',\n",
       " '__doc__',\n",
       " '__enter__',\n",
       " '__eq__',\n",
       " '__exit__',\n",
       " '__format__',\n",
       " '__ge__',\n",
       " '__getattribute__',\n",
       " '__gt__',\n",
       " '__hash__',\n",
       " '__init__',\n",
       " '__init_subclass__',\n",
       " '__iter__',\n",
       " '__le__',\n",
       " '__lt__',\n",
       " '__ne__',\n",
       " '__new__',\n",
       " '__next__',\n",
       " '__reduce__',\n",
       " '__reduce_ex__',\n",
       " '__repr__',\n",
       " '__setattr__',\n",
       " '__sizeof__',\n",
       " '__str__',\n",
       " '__subclasshook__',\n",
       " 'arraysize',\n",
       " 'binary_types',\n",
       " 'callproc',\n",
       " 'cast',\n",
       " 'close',\n",
       " 'closed',\n",
       " 'connection',\n",
       " 'copy_expert',\n",
       " 'copy_from',\n",
       " 'copy_to',\n",
       " 'description',\n",
       " 'execute',\n",
       " 'executemany',\n",
       " 'fetchall',\n",
       " 'fetchmany',\n",
       " 'fetchone',\n",
       " 'itersize',\n",
       " 'lastrowid',\n",
       " 'mogrify',\n",
       " 'name',\n",
       " 'nextset',\n",
       " 'pgresult_ptr',\n",
       " 'query',\n",
       " 'row_factory',\n",
       " 'rowcount',\n",
       " 'rownumber',\n",
       " 'scroll',\n",
       " 'scrollable',\n",
       " 'setinputsizes',\n",
       " 'setoutputsize',\n",
       " 'statusmessage',\n",
       " 'string_types',\n",
       " 'typecaster',\n",
       " 'tzinfo_factory',\n",
       " 'withhold']"
      ]
     },
     "execution_count": 6,
     "metadata": {},
     "output_type": "execute_result"
    }
   ],
   "source": [
    "cur = conn.cursor()\n",
    "\n",
    "dir(cur)"
   ]
  },
  {
   "cell_type": "code",
   "execution_count": 3,
   "metadata": {},
   "outputs": [
    {
     "ename": "DuplicateTable",
     "evalue": "relation \"dnc_cursos\" already exists\n",
     "output_type": "error",
     "traceback": [
      "\u001b[0;31m---------------------------------------------------------------------------\u001b[0m",
      "\u001b[0;31mDuplicateTable\u001b[0m                            Traceback (most recent call last)",
      "Cell \u001b[0;32mIn[3], line 11\u001b[0m\n\u001b[1;32m      3\u001b[0m conn \u001b[38;5;241m=\u001b[39m psycopg2\u001b[38;5;241m.\u001b[39mconnect(database \u001b[38;5;241m=\u001b[39m \u001b[38;5;124m\"\u001b[39m\u001b[38;5;124mpostgres\u001b[39m\u001b[38;5;124m\"\u001b[39m, \n\u001b[1;32m      4\u001b[0m                         user \u001b[38;5;241m=\u001b[39m \u001b[38;5;124m\"\u001b[39m\u001b[38;5;124mpostgres\u001b[39m\u001b[38;5;124m\"\u001b[39m, \n\u001b[1;32m      5\u001b[0m                         host\u001b[38;5;241m=\u001b[39m \u001b[38;5;124m'\u001b[39m\u001b[38;5;124mlocalhost\u001b[39m\u001b[38;5;124m'\u001b[39m,\n\u001b[1;32m      6\u001b[0m                         password \u001b[38;5;241m=\u001b[39m \u001b[38;5;124m\"\u001b[39m\u001b[38;5;124mdnc123\u001b[39m\u001b[38;5;124m\"\u001b[39m,\n\u001b[1;32m      7\u001b[0m                         port \u001b[38;5;241m=\u001b[39m \u001b[38;5;241m5432\u001b[39m)\n\u001b[1;32m      9\u001b[0m cur \u001b[38;5;241m=\u001b[39m conn\u001b[38;5;241m.\u001b[39mcursor()\n\u001b[0;32m---> 11\u001b[0m \u001b[43mcur\u001b[49m\u001b[38;5;241;43m.\u001b[39;49m\u001b[43mexecute\u001b[49m\u001b[43m(\u001b[49m\u001b[38;5;124;43m\"\"\"\u001b[39;49m\n\u001b[1;32m     12\u001b[0m \u001b[38;5;124;43m    CREATE TABLE dnc_cursos(\u001b[39;49m\n\u001b[1;32m     13\u001b[0m \u001b[38;5;124;43m            course_id SERIAL PRIMARY KEY,\u001b[39;49m\n\u001b[1;32m     14\u001b[0m \u001b[38;5;124;43m            course_name VARCHAR (50) UNIQUE NOT NULL,\u001b[39;49m\n\u001b[1;32m     15\u001b[0m \u001b[38;5;124;43m            course_instructor VARCHAR (100) NOT NULL,\u001b[39;49m\n\u001b[1;32m     16\u001b[0m \u001b[38;5;124;43m            topic VARCHAR (20) NOT NULL);\u001b[39;49m\n\u001b[1;32m     17\u001b[0m \u001b[38;5;124;43m\"\"\"\u001b[39;49m\u001b[43m)\u001b[49m\n\u001b[1;32m     19\u001b[0m conn\u001b[38;5;241m.\u001b[39mcommit()\n\u001b[1;32m     20\u001b[0m cur\u001b[38;5;241m.\u001b[39mclose()\n",
      "\u001b[0;31mDuplicateTable\u001b[0m: relation \"dnc_cursos\" already exists\n"
     ]
    }
   ],
   "source": [
    "\n",
    "# Criando tabela no Banco de dados\n",
    "\n",
    "conn = psycopg2.connect(database = \"postgres\", \n",
    "                        user = \"postgres\", \n",
    "                        host= 'localhost',\n",
    "                        password = \"dnc123\",\n",
    "                        port = 5432)\n",
    "\n",
    "cur = conn.cursor()\n",
    "\n",
    "cur.execute(\"\"\"\n",
    "    CREATE TABLE dnc_cursos(\n",
    "            course_id SERIAL PRIMARY KEY,\n",
    "            course_name VARCHAR (50) UNIQUE NOT NULL,\n",
    "            course_instructor VARCHAR (100) NOT NULL,\n",
    "            topic VARCHAR (20) NOT NULL);\n",
    "\"\"\")\n",
    "\n",
    "conn.commit()\n",
    "cur.close()\n",
    "conn.close()"
   ]
  },
  {
   "cell_type": "code",
   "execution_count": 5,
   "metadata": {},
   "outputs": [],
   "source": [
    "# Inserir dados na nossa tabela\n",
    "\n",
    "conn = psycopg2.connect(database = \"postgres\", \n",
    "                        user = \"postgres\", \n",
    "                        host= 'localhost',\n",
    "                        password = \"dnc123\",\n",
    "                        port = 5432)\n",
    "\n",
    "cur = conn.cursor()\n",
    "\n",
    "cur.execute(\"\"\"\n",
    "    INSERT INTO dnc_cursos(course_name, course_instructor, topic)\n",
    "    VALUES ('Introduction to SQL','Izzy Weber','Julia')\n",
    "\"\"\")\n",
    "\n",
    "cur.execute(\"INSERT INTO dnc_cursos(course_name, course_instructor, topic) VALUES('Analyzing Survey Data in Python','EbunOluwa Andrew','Python')\")\n",
    "\n",
    "cur.execute(\"INSERT INTO dnc_cursos(course_name, course_instructor, topic) VALUES('Introduction to ChatGPT','James Chapman','Theory')\")\n",
    "\n",
    "cur.execute(\"INSERT INTO dnc_cursos(course_name, course_instructor, topic) VALUES('Introduction to Statistics in R','Maggie Matsui','R')\")\n",
    "\n",
    "cur.execute(\"INSERT INTO dnc_cursos(course_name, course_instructor, topic) VALUES('Hypothesis Testing in Python','James Chapman','Python')\")\n",
    "\n",
    "conn.commit()\n",
    "cur.close()\n",
    "conn.close()"
   ]
  },
  {
   "cell_type": "code",
   "execution_count": 6,
   "metadata": {},
   "outputs": [
    {
     "name": "stdout",
     "output_type": "stream",
     "text": [
      "(1, 'Introduction to SQL', 'Izzy Weber', 'Julia')\n",
      "(2, 'Analyzing Survey Data in Python', 'EbunOluwa Andrew', 'Python')\n",
      "(3, 'Introduction to ChatGPT', 'James Chapman', 'Theory')\n",
      "(4, 'Introduction to Statistics in R', 'Maggie Matsui', 'R')\n",
      "(5, 'Hypothesis Testing in Python', 'James Chapman', 'Python')\n"
     ]
    }
   ],
   "source": [
    "# Ler dados da Tabela\n",
    "\n",
    "\n",
    "# Criando tabela no Banco de dados\n",
    "\n",
    "conn = psycopg2.connect(database = \"postgres\", \n",
    "                        user = \"postgres\", \n",
    "                        host= 'localhost',\n",
    "                        password = \"dnc123\",\n",
    "                        port = 5432)\n",
    "\n",
    "cur = conn.cursor()\n",
    "\n",
    "cur.execute(\"\"\"\n",
    "    SELECT * FROM dnc_cursos;\n",
    "\"\"\")\n",
    "rows = cur.fetchall()\n",
    "\n",
    "conn.commit()\n",
    "cur.close()\n",
    "conn.close()\n",
    "\n",
    "for row in rows:\n",
    "    print(row)"
   ]
  },
  {
   "cell_type": "code",
   "execution_count": 7,
   "metadata": {},
   "outputs": [],
   "source": [
    "# Atualizando um registro no Banco de Dados\n",
    "\n",
    "# Ler dados da Tabela\n",
    "\n",
    "\n",
    "# Criando tabela no Banco de dados\n",
    "\n",
    "conn = psycopg2.connect(database = \"postgres\", \n",
    "                        user = \"postgres\", \n",
    "                        host= 'localhost',\n",
    "                        password = \"dnc123\",\n",
    "                        port = 5432)\n",
    "\n",
    "cur = conn.cursor()\n",
    "\n",
    "cur.execute(\"\"\"\n",
    "UPDATE dnc_cursos SET topic = 'SQL' WHERE course_id = 1;\n",
    "\"\"\")\n",
    "\n",
    "conn.commit()\n",
    "cur.close()\n",
    "conn.close()\n"
   ]
  },
  {
   "cell_type": "code",
   "execution_count": 8,
   "metadata": {},
   "outputs": [
    {
     "name": "stdout",
     "output_type": "stream",
     "text": [
      "(2, 'Analyzing Survey Data in Python', 'EbunOluwa Andrew', 'Python')\n",
      "(3, 'Introduction to ChatGPT', 'James Chapman', 'Theory')\n",
      "(4, 'Introduction to Statistics in R', 'Maggie Matsui', 'R')\n",
      "(5, 'Hypothesis Testing in Python', 'James Chapman', 'Python')\n",
      "(1, 'Introduction to SQL', 'Izzy Weber', 'SQL')\n"
     ]
    }
   ],
   "source": [
    "# Ler dados da Tabela\n",
    "\n",
    "\n",
    "# Criando tabela no Banco de dados\n",
    "\n",
    "conn = psycopg2.connect(database = \"postgres\", \n",
    "                        user = \"postgres\", \n",
    "                        host= 'localhost',\n",
    "                        password = \"dnc123\",\n",
    "                        port = 5432)\n",
    "\n",
    "cur = conn.cursor()\n",
    "\n",
    "cur.execute(\"\"\"\n",
    "    SELECT * FROM dnc_cursos;\n",
    "\"\"\")\n",
    "rows = cur.fetchall()\n",
    "\n",
    "conn.commit()\n",
    "cur.close()\n",
    "conn.close()\n",
    "\n",
    "for row in rows:\n",
    "    print(row)"
   ]
  },
  {
   "cell_type": "code",
   "execution_count": 9,
   "metadata": {},
   "outputs": [],
   "source": [
    "# Deletando um registo na nossa tabela\n",
    "\n",
    "# Ler dados da Tabela\n",
    "\n",
    "\n",
    "# Criando tabela no Banco de dados\n",
    "\n",
    "conn = psycopg2.connect(database = \"postgres\", \n",
    "                        user = \"postgres\", \n",
    "                        host= 'localhost',\n",
    "                        password = \"dnc123\",\n",
    "                        port = 5432)\n",
    "\n",
    "cur = conn.cursor()\n",
    "\n",
    "cur.execute(\"\"\"\n",
    "    DELETE from dnc_cursos\n",
    "    WHERE course_name = 'Introduction to ChatGPT';\n",
    "\"\"\")\n",
    "\n",
    "conn.commit()\n",
    "cur.close()\n",
    "conn.close()"
   ]
  },
  {
   "cell_type": "code",
   "execution_count": 10,
   "metadata": {},
   "outputs": [
    {
     "name": "stdout",
     "output_type": "stream",
     "text": [
      "(2, 'Analyzing Survey Data in Python', 'EbunOluwa Andrew', 'Python')\n",
      "(4, 'Introduction to Statistics in R', 'Maggie Matsui', 'R')\n",
      "(5, 'Hypothesis Testing in Python', 'James Chapman', 'Python')\n",
      "(1, 'Introduction to SQL', 'Izzy Weber', 'SQL')\n"
     ]
    }
   ],
   "source": [
    "# Ler dados da Tabela\n",
    "\n",
    "\n",
    "# Criando tabela no Banco de dados\n",
    "\n",
    "conn = psycopg2.connect(database = \"postgres\", \n",
    "                        user = \"postgres\", \n",
    "                        host= 'localhost',\n",
    "                        password = \"dnc123\",\n",
    "                        port = 5432)\n",
    "\n",
    "cur = conn.cursor()\n",
    "\n",
    "cur.execute(\"\"\"\n",
    "    SELECT * FROM dnc_cursos;\n",
    "\"\"\")\n",
    "rows = cur.fetchall()\n",
    "\n",
    "conn.commit()\n",
    "cur.close()\n",
    "conn.close()\n",
    "\n",
    "for row in rows:\n",
    "    print(row)"
   ]
  },
  {
   "cell_type": "code",
   "execution_count": 11,
   "metadata": {},
   "outputs": [],
   "source": [
    "# Criando uma nova tabela no nosso banco de dados\n",
    "\n",
    "import psycopg2\n",
    "\n",
    "conn = psycopg2.connect(database = \"postgres\", \n",
    "                        user = \"postgres\", \n",
    "                        host= 'localhost',\n",
    "                        password = \"dnc123\",\n",
    "                        port = 5432)\n",
    "\n",
    "cur = conn.cursor()\n",
    "\n",
    "cur.execute(\"\"\"CREATE TABLE dnc_languages(\n",
    "            language_id SERIAL PRIMARY KEY,\n",
    "            language_name VARCHAR (50) UNIQUE NOT NULL,\n",
    "            course_number INTEGER NOT NULL REFERENCES dnc_cursos (course_id));\n",
    "            \"\"\")\n",
    "\n",
    "conn.commit()\n",
    "cur.close()"
   ]
  },
  {
   "cell_type": "code",
   "execution_count": 12,
   "metadata": {},
   "outputs": [],
   "source": [
    "# Inserindo os dados na nossa nova tabela\n",
    "\n",
    "# Insert data\n",
    "\n",
    "import psycopg2\n",
    "\n",
    "conn = psycopg2.connect(database = \"postgres\", \n",
    "                        user = \"postgres\", \n",
    "                        host= 'localhost',\n",
    "                        password = \"dnc123\",\n",
    "                        port = 5432)\n",
    "\n",
    "cur = conn.cursor()\n",
    "\n",
    "cur.execute(\"INSERT INTO dnc_languages(language_name, course_number) VALUES('Python',4)\")\n",
    "\n",
    "cur.execute(\"INSERT INTO dnc_languages(language_name, course_number) VALUES('SQL', 2)\")\n",
    "\n",
    "cur.execute(\"INSERT INTO dnc_languages(language_name, course_number) VALUES('Spark',1)\")\n",
    "\n",
    "conn.commit()\n",
    "cur.close()\n",
    "conn.close()"
   ]
  },
  {
   "cell_type": "code",
   "execution_count": 13,
   "metadata": {},
   "outputs": [
    {
     "name": "stdout",
     "output_type": "stream",
     "text": [
      "(1, 'Python', 4, 'Introduction to Statistics in R', 'Maggie Matsui')\n",
      "(2, 'SQL', 2, 'Analyzing Survey Data in Python', 'EbunOluwa Andrew')\n",
      "(3, 'Spark', 1, 'Introduction to SQL', 'Izzy Weber')\n"
     ]
    }
   ],
   "source": [
    "# Fazendo um join entre as nossas duas tabelas\n",
    "\n",
    "# Select data\n",
    "\n",
    "import psycopg2\n",
    "\n",
    "conn = psycopg2.connect(database = \"postgres\", \n",
    "                        user = \"postgres\", \n",
    "                        host= 'localhost',\n",
    "                        password = \"dnc123\",\n",
    "                        port = 5432)\n",
    "\n",
    "cur = conn.cursor()\n",
    "\n",
    "cur.execute(\"\"\"SELECT \n",
    "            lng.language_id,\n",
    "            lng.language_name,\n",
    "            crs.course_id,\n",
    "            crs.course_name,\n",
    "            crs.course_instructor\n",
    "            FROM dnc_languages lng \n",
    "            INNER JOIN dnc_cursos crs \n",
    "            ON lng.course_number = crs.course_id\"\"\")\n",
    "rows = cur.fetchall()\n",
    "for row in rows:\n",
    "    print(row)\n"
   ]
  },
  {
   "cell_type": "code",
   "execution_count": 14,
   "metadata": {},
   "outputs": [
    {
     "name": "stdout",
     "output_type": "stream",
     "text": [
      "Collecting SQLAlchemy\n",
      "  Using cached SQLAlchemy-2.0.29-cp310-cp310-manylinux_2_17_x86_64.manylinux2014_x86_64.whl (3.1 MB)\n",
      "Collecting greenlet!=0.4.17\n",
      "  Using cached greenlet-3.0.3-cp310-cp310-manylinux_2_24_x86_64.manylinux_2_28_x86_64.whl (616 kB)\n",
      "Requirement already satisfied: typing-extensions>=4.6.0 in /home/lkeiti/Documents/dnc-data-engineer/.env/lib/python3.10/site-packages (from SQLAlchemy) (4.11.0)\n",
      "Installing collected packages: greenlet, SQLAlchemy\n",
      "Successfully installed SQLAlchemy-2.0.29 greenlet-3.0.3\n"
     ]
    }
   ],
   "source": [
    "!pip install SQLAlchemy"
   ]
  },
  {
   "cell_type": "code",
   "execution_count": 15,
   "metadata": {},
   "outputs": [],
   "source": [
    "import sqlalchemy as db\n",
    "from sqlalchemy import text\n",
    "\n",
    "username = 'postgres'\n",
    "password = 'dnc123'\n",
    "host = 'localhost'  # or your database host address\n",
    "port = '5432'  # or your database port\n",
    "database_name = 'postgres'\n",
    "\n",
    "# Create the connection URL\n",
    "connection_url = f'postgresql://{username}:{password}@{host}:{port}/{database_name}'"
   ]
  },
  {
   "cell_type": "code",
   "execution_count": 16,
   "metadata": {},
   "outputs": [
    {
     "name": "stdout",
     "output_type": "stream",
     "text": [
      "[(2, 'Analyzing Survey Data in Python', 'EbunOluwa Andrew', 'Python'), (4, 'Introduction to Statistics in R', 'Maggie Matsui', 'R'), (5, 'Hypothesis Testing in Python', 'James Chapman', 'Python'), (1, 'Introduction to SQL', 'Izzy Weber', 'SQL')]\n"
     ]
    }
   ],
   "source": [
    "engine = db.create_engine(connection_url)\n",
    "conn = engine.connect()\n",
    "output = conn.execute(text(\"SELECT * FROM dnc_cursos\"))\n",
    "print(output.fetchall())\n",
    "conn.close()"
   ]
  },
  {
   "cell_type": "code",
   "execution_count": 17,
   "metadata": {},
   "outputs": [
    {
     "name": "stdout",
     "output_type": "stream",
     "text": [
      "[(1, 'Python', 4, 'Introduction to Statistics in R', 'Maggie Matsui'), (2, 'SQL', 2, 'Analyzing Survey Data in Python', 'EbunOluwa Andrew'), (3, 'Spark', 1, 'Introduction to SQL', 'Izzy Weber')]\n"
     ]
    }
   ],
   "source": [
    "# realizando um join entre tabelas\n",
    "\n",
    "import sqlalchemy as db\n",
    "from sqlalchemy import text\n",
    "\n",
    "username = 'postgres'\n",
    "password = 'dnc123'\n",
    "host = 'localhost'  # or your database host address\n",
    "port = '5432'  # or your database port\n",
    "database_name = 'postgres'\n",
    "\n",
    "# Create the connection URL\n",
    "connection_url = f'postgresql://{username}:{password}@{host}:{port}/{database_name}'\n",
    "\n",
    "\n",
    "engine = db.create_engine(connection_url)\n",
    "conn = engine.connect()\n",
    "output = conn.execute(text(\"\"\"SELECT \n",
    "            lng.language_id,\n",
    "            lng.language_name,\n",
    "            crs.course_id,\n",
    "            crs.course_name,\n",
    "            crs.course_instructor\n",
    "            FROM dnc_languages lng \n",
    "            INNER JOIN dnc_cursos crs \n",
    "            ON lng.course_number = crs.course_id\"\"\"))\n",
    "print(output.fetchall())\n",
    "conn.close()"
   ]
  },
  {
   "cell_type": "code",
   "execution_count": null,
   "metadata": {},
   "outputs": [],
   "source": []
  }
 ],
 "metadata": {
  "kernelspec": {
   "display_name": ".env",
   "language": "python",
   "name": "python3"
  },
  "language_info": {
   "codemirror_mode": {
    "name": "ipython",
    "version": 3
   },
   "file_extension": ".py",
   "mimetype": "text/x-python",
   "name": "python",
   "nbconvert_exporter": "python",
   "pygments_lexer": "ipython3",
   "version": "3.10.12"
  }
 },
 "nbformat": 4,
 "nbformat_minor": 2
}
