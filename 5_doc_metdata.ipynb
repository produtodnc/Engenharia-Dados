{
 "cells": [
  {
   "cell_type": "code",
   "execution_count": 2,
   "metadata": {},
   "outputs": [],
   "source": [
    "# Adicionando documentacao para os nossos models\n",
    "\n",
    "# Arquivo models/schemas.yml\n",
    "\n",
    "# descriptions tag"
   ]
  },
  {
   "cell_type": "code",
   "execution_count": null,
   "metadata": {},
   "outputs": [],
   "source": [
    "\"\"\"\n",
    "version: 2\n",
    "\n",
    "models:\n",
    "  - name: dim_listings_cleansed\n",
    "    description: Cleansed table which contains Airbnb listings\n",
    "    columns:\n",
    "      - name: listing_id\n",
    "        description: Primary key for the listing\n",
    "        tests:\n",
    "          - unique\n",
    "          - not_null\n",
    "\n",
    "      - name: host_id\n",
    "        description: The host's id. References the hosts table\n",
    "        tests:\n",
    "          - not_null\n",
    "          - relationships:\n",
    "              to: ref('dim_hosts_cleaesed')\n",
    "              field: host_id\n",
    "\n",
    "      - name: room_type\n",
    "        tests:\n",
    "          - accepted_values:\n",
    "              values: ['Entire home/apt', 'Private room', 'Shared room', 'Hotel room']\n",
    "\"\"\""
   ]
  },
  {
   "cell_type": "code",
   "execution_count": 4,
   "metadata": {},
   "outputs": [],
   "source": [
    "# Gerando HTML website para nossa documentacao\n",
    "\n",
    "# Gerando catalog.JSON\n",
    "# dbt docs generate\n",
    "\n",
    "# dbt docs serve"
   ]
  },
  {
   "cell_type": "code",
   "execution_count": 6,
   "metadata": {},
   "outputs": [],
   "source": [
    "# Navegar pela documentacao gerada pelo light server\n",
    "\n",
    "# Database Overview"
   ]
  },
  {
   "cell_type": "code",
   "execution_count": 8,
   "metadata": {},
   "outputs": [],
   "source": [
    "# mostrar data lineage"
   ]
  },
  {
   "cell_type": "code",
   "execution_count": null,
   "metadata": {},
   "outputs": [],
   "source": []
  }
 ],
 "metadata": {
  "kernelspec": {
   "display_name": ".env",
   "language": "python",
   "name": "python3"
  },
  "language_info": {
   "codemirror_mode": {
    "name": "ipython",
    "version": 3
   },
   "file_extension": ".py",
   "mimetype": "text/x-python",
   "name": "python",
   "nbconvert_exporter": "python",
   "pygments_lexer": "ipython3",
   "version": "3.10.12"
  }
 },
 "nbformat": 4,
 "nbformat_minor": 2
}
